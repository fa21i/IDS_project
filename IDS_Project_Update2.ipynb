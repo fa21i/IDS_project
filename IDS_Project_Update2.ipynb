{
 "cells": [
  {
   "cell_type": "code",
   "execution_count": 1,
   "id": "e3ca8c1d",
   "metadata": {},
   "outputs": [
    {
     "data": {
      "text/html": [
       "        <script type=\"text/javascript\">\n",
       "        window.PlotlyConfig = {MathJaxConfig: 'local'};\n",
       "        if (window.MathJax && window.MathJax.Hub && window.MathJax.Hub.Config) {window.MathJax.Hub.Config({SVG: {font: \"STIX-Web\"}});}\n",
       "        if (typeof require !== 'undefined') {\n",
       "        require.undef(\"plotly\");\n",
       "        requirejs.config({\n",
       "            paths: {\n",
       "                'plotly': ['https://cdn.plot.ly/plotly-2.12.1.min']\n",
       "            }\n",
       "        });\n",
       "        require(['plotly'], function(Plotly) {\n",
       "            window._Plotly = Plotly;\n",
       "        });\n",
       "        }\n",
       "        </script>\n",
       "        "
      ]
     },
     "metadata": {},
     "output_type": "display_data"
    }
   ],
   "source": [
    "import numpy as np\n",
    "import pandas as pd\n",
    "import matplotlib.pyplot as plt\n",
    "import seaborn as sns\n",
    "import missingno as msno\n",
    "import plotly.offline as py\n",
    "py.init_notebook_mode(connected=True)\n",
    "import plotly.graph_objs as go\n",
    "from sklearn.metrics import mean_squared_error\n",
    "\n",
    "%matplotlib inline\n",
    "plt.style.use('ggplot')"
   ]
  },
  {
   "cell_type": "code",
   "execution_count": 706,
   "id": "0552e395",
   "metadata": {},
   "outputs": [
    {
     "name": "stdout",
     "output_type": "stream",
     "text": [
      "<class 'pandas.core.frame.DataFrame'>\n",
      "RangeIndex: 3143 entries, 0 to 3142\n",
      "Data columns (total 4 columns):\n",
      " #   Column     Non-Null Count  Dtype \n",
      "---  ------     --------------  ----- \n",
      " 0   County     3143 non-null   string\n",
      " 1   State      3143 non-null   string\n",
      " 2   FIPS       3143 non-null   int64 \n",
      " 3   StateAbbr  3143 non-null   string\n",
      "dtypes: int64(1), string(3)\n",
      "memory usage: 98.3 KB\n"
     ]
    }
   ],
   "source": [
    "import pandas as pd \n",
    "tsv_file='datasets/fips2county.tsv'\n",
    "csv_table=pd.read_table(tsv_file,sep='\\t')[['CountyName','StateName','CountyFIPS','StateAbbr']]\n",
    "csv_table.rename(columns={'CountyName': 'County', 'StateName': 'State','CountyFIPS':'FIPS'}, inplace=True)\n",
    "csv_table[['County','State','StateAbbr']] = csv_table[['County','State','StateAbbr']].astype('string')\n",
    "csv_table.info()"
   ]
  },
  {
   "cell_type": "code",
   "execution_count": 786,
   "id": "d58c23d5",
   "metadata": {},
   "outputs": [
    {
     "name": "stdout",
     "output_type": "stream",
     "text": [
      "<class 'pandas.core.frame.DataFrame'>\n",
      "RangeIndex: 3142 entries, 0 to 3141\n",
      "Data columns (total 6 columns):\n",
      " #   Column                        Non-Null Count  Dtype  \n",
      "---  ------                        --------------  -----  \n",
      " 0   FIPS                          3142 non-null   int64  \n",
      " 1   State                         3142 non-null   string \n",
      " 2   County                        3142 non-null   string \n",
      " 3   Household Income              3141 non-null   float64\n",
      " 4   % Severe Housing Cost Burden  3141 non-null   float64\n",
      " 5   Population                    3142 non-null   int64  \n",
      "dtypes: float64(2), int64(2), string(2)\n",
      "memory usage: 147.4 KB\n"
     ]
    }
   ],
   "source": [
    "import pandas as pd\n",
    "df1 = pd.read_excel('datasets/2019 County Health Rankings Data - v3.xls', \n",
    "                    sheet_name='Additional Measure Data', \n",
    "                    header=1,\n",
    "                    usecols='A,B,C,CL,D,K,R,Y,BN,CE,CI,DG')\n",
    "df1['State'] = df1['State'].astype('string').str.strip()\n",
    "df1['County'] = df1['County'].astype('string').str.strip()\n",
    "df1 = df1.iloc[:,[0,1,2,7,9,10]]\n",
    "df1.info()"
   ]
  },
  {
   "cell_type": "code",
   "execution_count": 793,
   "id": "4a179a60",
   "metadata": {},
   "outputs": [
    {
     "name": "stdout",
     "output_type": "stream",
     "text": [
      "<class 'pandas.core.frame.DataFrame'>\n",
      "Int64Index: 2951 entries, 0 to 3141\n",
      "Data columns (total 11 columns):\n",
      " #   Column                         Non-Null Count  Dtype  \n",
      "---  ------                         --------------  -----  \n",
      " 0   FIPS                           2951 non-null   int64  \n",
      " 1   State                          2951 non-null   string \n",
      " 2   County                         2951 non-null   string \n",
      " 3   % Fair/Poor                    2951 non-null   float64\n",
      " 4   % Unemployed                   2951 non-null   float64\n",
      " 5   Association Rate               2951 non-null   float64\n",
      " 6   Violent Crime Rate             2951 non-null   float64\n",
      " 7   Average Daily PM2.5            2935 non-null   float64\n",
      " 8   % Severe Housing Problems      2951 non-null   float64\n",
      " 9   % Drive Alone                  2951 non-null   float64\n",
      " 10  % Long Commute - Drives Alone  2951 non-null   float64\n",
      "dtypes: float64(8), int64(1), string(2)\n",
      "memory usage: 276.7 KB\n"
     ]
    }
   ],
   "source": [
    "df2 = pd.read_excel('datasets/2019 County Health Rankings Data - v3.xls', \n",
    "                    sheet_name='Ranked Measure Data', \n",
    "                    header=1,\n",
    "                    usecols='A,B,C,K,AM,CV,CZ,DF,DZ,EC,EJ,EN,EU,FC')\n",
    "df2['State'] = df2['State'].astype('string').str.strip()\n",
    "df2['County'] = df2['County'].astype('string').str.strip()\n",
    "df2['FIPS'] = df2['FIPS'].astype('int')\n",
    "df2 = df2.iloc[:,[0,1,2,3,7,8,9,10,11,12,13]]\n",
    "df2 = df2.dropna(subset=[\"Violent Crime Rate\"])\n",
    "df2.info()"
   ]
  },
  {
   "cell_type": "code",
   "execution_count": 794,
   "id": "f98cc4df",
   "metadata": {},
   "outputs": [
    {
     "name": "stdout",
     "output_type": "stream",
     "text": [
      "<class 'pandas.core.frame.DataFrame'>\n",
      "Int64Index: 964 entries, 0 to 963\n",
      "Data columns (total 8 columns):\n",
      " #   Column               Non-Null Count  Dtype \n",
      "---  ------               --------------  ----- \n",
      " 0   State                964 non-null    string\n",
      " 1   County               964 non-null    string\n",
      " 2   Year                 964 non-null    int64 \n",
      " 3   Days with AQI        964 non-null    int64 \n",
      " 4   Max AQI              964 non-null    int64 \n",
      " 5   90th Percentile AQI  964 non-null    int64 \n",
      " 6   Median AQI           964 non-null    int64 \n",
      " 7   FIPS                 964 non-null    int64 \n",
      "dtypes: int64(6), string(2)\n",
      "memory usage: 67.8 KB\n"
     ]
    }
   ],
   "source": [
    "df3 = pd.read_csv('datasets/annual_aqi_by_county_2019.csv', usecols=[0,1,2,3,10,11,12] )\n",
    "df3['State'] = df3['State'].astype('string') \n",
    "df3['County'] = df3['County'].astype('string') \n",
    "dff = pd.merge(df3.iloc[:,:2],df2.iloc[:,:3], on=[\"State\",\"County\"], how=\"inner\")\n",
    "df3['FIPS'] = dff['FIPS']\n",
    "df3 = df3.dropna(subset=['FIPS'])\n",
    "df3['FIPS'] = df3['FIPS'].astype('int')\n",
    "df3.info()"
   ]
  },
  {
   "cell_type": "code",
   "execution_count": 795,
   "id": "80f6b068",
   "metadata": {},
   "outputs": [
    {
     "data": {
      "text/html": [
       "<div>\n",
       "<style scoped>\n",
       "    .dataframe tbody tr th:only-of-type {\n",
       "        vertical-align: middle;\n",
       "    }\n",
       "\n",
       "    .dataframe tbody tr th {\n",
       "        vertical-align: top;\n",
       "    }\n",
       "\n",
       "    .dataframe thead th {\n",
       "        text-align: right;\n",
       "    }\n",
       "</style>\n",
       "<table border=\"1\" class=\"dataframe\">\n",
       "  <thead>\n",
       "    <tr style=\"text-align: right;\">\n",
       "      <th></th>\n",
       "      <th>FIPS</th>\n",
       "      <th>State</th>\n",
       "      <th>County</th>\n",
       "      <th>Violent crimes</th>\n",
       "      <th>Property crimes</th>\n",
       "    </tr>\n",
       "  </thead>\n",
       "  <tbody>\n",
       "    <tr>\n",
       "      <th>0</th>\n",
       "      <td>4003</td>\n",
       "      <td>Arizona</td>\n",
       "      <td>Cochise</td>\n",
       "      <td>47.0</td>\n",
       "      <td>531.0</td>\n",
       "    </tr>\n",
       "    <tr>\n",
       "      <th>1</th>\n",
       "      <td>4005</td>\n",
       "      <td>Arizona</td>\n",
       "      <td>Coconino</td>\n",
       "      <td>127.0</td>\n",
       "      <td>264.0</td>\n",
       "    </tr>\n",
       "    <tr>\n",
       "      <th>2</th>\n",
       "      <td>4007</td>\n",
       "      <td>Arizona</td>\n",
       "      <td>Gila</td>\n",
       "      <td>176.0</td>\n",
       "      <td>384.0</td>\n",
       "    </tr>\n",
       "    <tr>\n",
       "      <th>3</th>\n",
       "      <td>4009</td>\n",
       "      <td>Arizona</td>\n",
       "      <td>Graham</td>\n",
       "      <td>61.0</td>\n",
       "      <td>104.0</td>\n",
       "    </tr>\n",
       "    <tr>\n",
       "      <th>4</th>\n",
       "      <td>4012</td>\n",
       "      <td>Arizona</td>\n",
       "      <td>La Paz</td>\n",
       "      <td>40.0</td>\n",
       "      <td>310.0</td>\n",
       "    </tr>\n",
       "    <tr>\n",
       "      <th>...</th>\n",
       "      <td>...</td>\n",
       "      <td>...</td>\n",
       "      <td>...</td>\n",
       "      <td>...</td>\n",
       "      <td>...</td>\n",
       "    </tr>\n",
       "    <tr>\n",
       "      <th>1685</th>\n",
       "      <td>56035</td>\n",
       "      <td>Wyoming</td>\n",
       "      <td>Sublette</td>\n",
       "      <td>3.0</td>\n",
       "      <td>45.0</td>\n",
       "    </tr>\n",
       "    <tr>\n",
       "      <th>1686</th>\n",
       "      <td>56037</td>\n",
       "      <td>Wyoming</td>\n",
       "      <td>Sweetwater</td>\n",
       "      <td>16.0</td>\n",
       "      <td>83.0</td>\n",
       "    </tr>\n",
       "    <tr>\n",
       "      <th>1687</th>\n",
       "      <td>56041</td>\n",
       "      <td>Wyoming</td>\n",
       "      <td>Uinta</td>\n",
       "      <td>2.0</td>\n",
       "      <td>40.0</td>\n",
       "    </tr>\n",
       "    <tr>\n",
       "      <th>1688</th>\n",
       "      <td>56043</td>\n",
       "      <td>Wyoming</td>\n",
       "      <td>Washakie</td>\n",
       "      <td>2.0</td>\n",
       "      <td>22.0</td>\n",
       "    </tr>\n",
       "    <tr>\n",
       "      <th>1689</th>\n",
       "      <td>56045</td>\n",
       "      <td>Wyoming</td>\n",
       "      <td>Weston</td>\n",
       "      <td>0.0</td>\n",
       "      <td>1.0</td>\n",
       "    </tr>\n",
       "  </tbody>\n",
       "</table>\n",
       "<p>1690 rows × 5 columns</p>\n",
       "</div>"
      ],
      "text/plain": [
       "       FIPS    State      County  Violent crimes  Property crimes\n",
       "0      4003  Arizona     Cochise            47.0            531.0\n",
       "1      4005  Arizona    Coconino           127.0            264.0\n",
       "2      4007  Arizona        Gila           176.0            384.0\n",
       "3      4009  Arizona      Graham            61.0            104.0\n",
       "4      4012  Arizona      La Paz            40.0            310.0\n",
       "...     ...      ...         ...             ...              ...\n",
       "1685  56035  Wyoming    Sublette             3.0             45.0\n",
       "1686  56037  Wyoming  Sweetwater            16.0             83.0\n",
       "1687  56041  Wyoming       Uinta             2.0             40.0\n",
       "1688  56043  Wyoming    Washakie             2.0             22.0\n",
       "1689  56045  Wyoming      Weston             0.0              1.0\n",
       "\n",
       "[1690 rows x 5 columns]"
      ]
     },
     "execution_count": 795,
     "metadata": {},
     "output_type": "execute_result"
    }
   ],
   "source": [
    "df4 = pd.read_excel('datasets/Table_10_Offenses_Known_to_Law_Enforcement_by_State_by_Metropolitan_and_Nonmetropolitan_Counties_2019.xls', \n",
    "                    header=4,sheet_name='19tbl10',usecols=\"A,B,C,H\")\n",
    "df4 = df4.iloc[1:2204]\n",
    "df4 = df4.rename(columns={\"Violent\\ncrime\": \"Violent crimes\", \"Property\\ncrime\": \"Property crimes\"})\n",
    "df4['State'].fillna(method='ffill', inplace=True)\n",
    "df4['State'] = df4['State'].str.capitalize().astype('string').str.strip()\n",
    "df4['County'] = df4['County'].astype('string').str.strip()\n",
    "df4[['State','County Type']] = df4['State'].str.split(' -',expand=True)\n",
    "df4 = pd.merge(df2[['FIPS','State','County']],df4, on=[\"State\",\"County\"], how='inner')\n",
    "df4 = df4.iloc[:,:-1]\n",
    "df4\n"
   ]
  },
  {
   "cell_type": "code",
   "execution_count": 796,
   "id": "fd04fea8",
   "metadata": {},
   "outputs": [
    {
     "name": "stdout",
     "output_type": "stream",
     "text": [
      "<class 'pandas.core.frame.DataFrame'>\n",
      "RangeIndex: 3111 entries, 0 to 3110\n",
      "Data columns (total 5 columns):\n",
      " #   Column                               Non-Null Count  Dtype  \n",
      "---  ------                               --------------  -----  \n",
      " 0   FIPS                                 3111 non-null   int64  \n",
      " 1   State                                3111 non-null   string \n",
      " 2   County                               3111 non-null   string \n",
      " 3   Natural amenity Scale                3111 non-null   float64\n",
      " 4   Natural amenity rank  1=Low  7=High  3111 non-null   int64  \n",
      "dtypes: float64(1), int64(2), string(2)\n",
      "memory usage: 121.6 KB\n"
     ]
    }
   ],
   "source": [
    "df5 = pd.read_excel('datasets/natamenf_1_.xls',header=[102,103,104])\n",
    "df5.columns = [' '.join(col).strip() for col in df5.columns.values]\n",
    "# df5 = df5.loc[:, ~df5.columns.str.contains('^Unnamed')]\n",
    "df5 = pd.concat([df5.iloc[:,1:4],df5.iloc[:,20:22]],axis=1)\n",
    "df5 = df5.rename(columns={\"County Ind. FIPS used for measures\": \"FIPS\", \n",
    "                          \"County Ind. FIPS used STATE\": \"State\",\n",
    "                          \"County Ind. FIPS used County name\": \"County\",\n",
    "                          df5.columns[3]:\"Natural amenity Scale\"})\n",
    "df5['County'] = df5['County'].str.capitalize()\n",
    "df5['State'] = df5['State'].astype('string').str.strip()\n",
    "df5['County'] = df5['County'].astype('string').str.strip()\n",
    "df5.info()\n"
   ]
  },
  {
   "cell_type": "code",
   "execution_count": 797,
   "id": "b27dedcb",
   "metadata": {},
   "outputs": [
    {
     "name": "stdout",
     "output_type": "stream",
     "text": [
      "<class 'pandas.core.frame.DataFrame'>\n",
      "Int64Index: 2956 entries, 0 to 2955\n",
      "Data columns (total 5 columns):\n",
      " #   Column     Non-Null Count  Dtype  \n",
      "---  ------     --------------  -----  \n",
      " 0   County     2956 non-null   string \n",
      " 1   State      2956 non-null   string \n",
      " 2   zhvi_mean  2956 non-null   float64\n",
      " 3   FIPS       2956 non-null   int64  \n",
      " 4   StateAbbr  2956 non-null   string \n",
      "dtypes: float64(1), int64(1), string(3)\n",
      "memory usage: 138.6 KB\n"
     ]
    }
   ],
   "source": [
    "df6 = pd.read_csv('datasets/County_zhvi_uc_sfrcondo_tier_0.67_1.0_sm_sa_month.csv', usecols=[0,1,2,3,4,5,6,7,8,237,238,239,240,241,242,243,244,245,246,247,248,248])\n",
    "df6 = df6.round(2)\n",
    "mean_zhvi = df6.iloc[:,9:].mean(axis=1,skipna=True).round(2)\n",
    "df6['zhvi_mean'] = mean_zhvi\n",
    "df6[['A','B']] = df6['RegionName'].str.split(' County', expand=True)\n",
    "df6['RegionName'] = df6['A']\n",
    "df6 = df6.iloc[:,:22]\n",
    "df6 = df6.dropna(subset=['zhvi_mean'])\n",
    "df6.drop(columns=['RegionID','SizeRank','RegionType','StateName','Metro','StateCodeFIPS','MunicipalCodeFIPS'],inplace=True)\n",
    "df6.rename(columns={'RegionName':'County'},inplace=True)\n",
    "df6[['County','State']] = df6[['County','State']].astype('string')\n",
    "df6 = pd.merge(df6,csv_table,left_on=['State','County'],right_on=['StateAbbr','County'], how='inner')\n",
    "df6.drop(['State_y'],axis=1,inplace=True)\n",
    "df6.rename(columns={'State_x':'State'},inplace=True)\n",
    "df6['FIPS'] = df6['FIPS'].astype('int')\n",
    "df6 = df6.iloc[:,[0,1,14,15,16]]\n",
    "df6.info()\n"
   ]
  },
  {
   "cell_type": "code",
   "execution_count": 807,
   "id": "4e1ae5e4",
   "metadata": {},
   "outputs": [
    {
     "name": "stdout",
     "output_type": "stream",
     "text": [
      "<class 'pandas.core.frame.DataFrame'>\n",
      "Int64Index: 2825 entries, 0 to 2824\n",
      "Data columns (total 18 columns):\n",
      " #   Column                               Non-Null Count  Dtype  \n",
      "---  ------                               --------------  -----  \n",
      " 0   FIPS                                 2825 non-null   int64  \n",
      " 1   State                                2825 non-null   string \n",
      " 2   County                               2825 non-null   string \n",
      " 3   Household Income                     2825 non-null   float64\n",
      " 4   % Severe Housing Cost Burden         2825 non-null   float64\n",
      " 5   Population                           2825 non-null   int64  \n",
      " 6   % Fair/Poor                          2825 non-null   float64\n",
      " 7   % Unemployed                         2825 non-null   float64\n",
      " 8   Association Rate                     2825 non-null   float64\n",
      " 9   Violent Crime Rate                   2825 non-null   float64\n",
      " 10  Average Daily PM2.5                  2825 non-null   float64\n",
      " 11  % Severe Housing Problems            2825 non-null   float64\n",
      " 12  % Drive Alone                        2825 non-null   float64\n",
      " 13  % Long Commute - Drives Alone        2825 non-null   float64\n",
      " 14  Natural amenity Scale                2825 non-null   float64\n",
      " 15  Natural amenity rank  1=Low  7=High  2825 non-null   int64  \n",
      " 16  zhvi_mean                            2825 non-null   float64\n",
      " 17  StateAbbr                            2825 non-null   string \n",
      "dtypes: float64(12), int64(3), string(3)\n",
      "memory usage: 419.3 KB\n"
     ]
    }
   ],
   "source": [
    "# Merge dataframes on the 'FIPS' column\n",
    "df_merged=csv_table\n",
    "df_merged = pd.merge(df1, df2, on='FIPS', how='inner',suffixes=('','_x'))\n",
    "# df_merged = pd.merge(df_merged, df3, on='FIPS', how='inner',suffixes=('','_x'))\n",
    "# df_merged = pd.merge(df_merged, df4, on='FIPS', how='inner',suffixes=('','_x'))\n",
    "df_merged = pd.merge(df_merged, df5, on='FIPS', how='inner',suffixes=('','_x'))\n",
    "df_merged = pd.merge(df_merged, df6, on='FIPS', how='inner',suffixes=('','_x'))\n",
    "\n",
    "df_merged.drop(df_merged.filter(regex='_x$').columns, axis=1, inplace=True)\n",
    "\n",
    "df_merged.info()"
   ]
  },
  {
   "cell_type": "code",
   "execution_count": 813,
   "id": "0826f7b5",
   "metadata": {},
   "outputs": [
    {
     "data": {
      "text/plain": [
       "Index(['Household Income', '% Severe Housing Cost Burden', 'Population',\n",
       "       '% Fair/Poor', '% Unemployed', 'Association Rate', 'Violent Crime Rate',\n",
       "       'Average Daily PM2.5', '% Severe Housing Problems', '% Drive Alone',\n",
       "       '% Long Commute - Drives Alone', 'Natural amenity Scale',\n",
       "       'Natural amenity rank  1=Low  7=High'],\n",
       "      dtype='object')"
      ]
     },
     "execution_count": 813,
     "metadata": {},
     "output_type": "execute_result"
    }
   ],
   "source": [
    "dataframe = df_merged.iloc[:,3:17]\n",
    "dataframe.columns[:-1]"
   ]
  },
  {
   "cell_type": "code",
   "execution_count": 809,
   "id": "6ea2b849",
   "metadata": {},
   "outputs": [
    {
     "data": {
      "image/png": "[encoded data removed]",
      "text/plain": [
       "<Figure size 480x480 with 1 Axes>"
      ]
     },
     "metadata": {},
     "output_type": "display_data"
    }
   ],
   "source": [
    "import matplotlib.pyplot as plt\n",
    "\n",
    "plt.matshow(dataframe.corr())\n",
    "plt.show()"
   ]
  },
  {
   "cell_type": "code",
   "execution_count": 823,
   "id": "e696d61e",
   "metadata": {},
   "outputs": [
    {
     "name": "stderr",
     "output_type": "stream",
     "text": [
      "/var/folders/30/446_f0l11w35mlswd2br0w740000gp/T/ipykernel_41921/2066985601.py:16: UserWarning: FixedFormatter should only be used together with FixedLocator\n",
      "  ax.set_xticklabels(corr.index, rotation=45)\n"
     ]
    },
    {
     "data": {
      "image/png": "[encoded data removed]",
      "text/plain": [
       "<Figure size 1500x500 with 1 Axes>"
      ]
     },
     "metadata": {},
     "output_type": "display_data"
    }
   ],
   "source": [
    "import pandas as pd\n",
    "import numpy as np\n",
    "import matplotlib.pyplot as plt\n",
    "\n",
    "# create a sample dataframe with 10 features and 1 target variable\n",
    "np.random.seed(123)\n",
    "df = pd.DataFrame(np.random.randn(100, 14), columns=dataframe.columns)\n",
    "\n",
    "# calculate pairwise correlations\n",
    "corr = df.corr()['zhvi_mean'][:-1] #exclude target column as it is not required for correlations\n",
    "\n",
    "# plot a bar graph of correlations\n",
    "plt.rcParams['figure.figsize'] = [15, 5]\n",
    "fig, ax = plt.subplots()\n",
    "ax.bar(corr.index, corr.values, color='green')\n",
    "ax.set_xticklabels(corr.index, rotation=45)\n",
    "ax.set_ylabel('Correlation coefficient')\n",
    "ax.set_title('Pairwise Correlations')\n",
    "plt.show()"
   ]
  },
  {
   "cell_type": "code",
   "execution_count": 810,
   "id": "e7a8b29e",
   "metadata": {},
   "outputs": [
    {
     "name": "stdout",
     "output_type": "stream",
     "text": [
      "MSE: 13001453682.38\n",
      "RMSE: 114023.92\n",
      "R2 score: 0.72\n",
      "MAE: 57248.58\n",
      "Adjusted R2 score: 0.71\n"
     ]
    }
   ],
   "source": [
    "from sklearn.linear_model import LinearRegression\n",
    "from sklearn.metrics import mean_squared_error, r2_score, mean_absolute_error\n",
    "import pandas as pd\n",
    "\n",
    "# Split the data into training and test sets\n",
    "train = dataframe.sample(frac=0.8, random_state=42)\n",
    "test = dataframe.drop(train.index)\n",
    "# print(test)\n",
    "# Define the predictor and target variables\n",
    "X_train = train.drop('zhvi_mean', axis=1)\n",
    "y_train = train['zhvi_mean']\n",
    "X_test = test.drop('zhvi_mean', axis=1)\n",
    "y_test = test['zhvi_mean']\n",
    "\n",
    "# Train the model\n",
    "model = LinearRegression()\n",
    "model.fit(X_train, y_train)\n",
    "\n",
    "# Make predictions on the test set\n",
    "y_pred = model.predict(X_test)\n",
    "\n",
    "# Evaluate the performance using MSE, RMSE, R2 score, and MAE\n",
    "mse = mean_squared_error(y_test, y_pred)\n",
    "rmse = mean_squared_error(y_test, y_pred, squared=False)\n",
    "r2 = r2_score(y_test, y_pred)\n",
    "mae = mean_absolute_error(y_test, y_pred)\n",
    "adj_r2 = 1 - ((1 - r2) * (len(y_test) - 1)) / (len(y_test) - X_test.shape[1] - 1)\n",
    "\n",
    "print(f\"MSE: {mse:.2f}\")\n",
    "print(f\"RMSE: {rmse:.2f}\")\n",
    "print(f\"R2 score: {r2:.2f}\")\n",
    "print(f\"MAE: {mae:.2f}\")\n",
    "print(f\"Adjusted R2 score: {adj_r2:.2f}\")\n"
   ]
  },
  {
   "cell_type": "code",
   "execution_count": null,
   "id": "ac0d36d7",
   "metadata": {},
   "outputs": [],
   "source": []
  }
 ],
 "metadata": {
  "kernelspec": {
   "display_name": "Python 3 (ipykernel)",
   "language": "python",
   "name": "python3"
  },
  "language_info": {
   "codemirror_mode": {
    "name": "ipython",
    "version": 3
   },
   "file_extension": ".py",
   "mimetype": "text/x-python",
   "name": "python",
   "nbconvert_exporter": "python",
   "pygments_lexer": "ipython3",
   "version": "3.9.13"
  }
 },
 "nbformat": 4,
 "nbformat_minor": 5
}
